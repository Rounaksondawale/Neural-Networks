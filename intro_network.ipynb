{
 "cells": [
  {
   "cell_type": "code",
   "execution_count": 1,
   "metadata": {},
   "outputs": [],
   "source": [
    "import torch\n",
    "import torch.nn as nn\n",
    "import torch.nn.functional as F\n",
    "from torch.optim import SGD\n",
    "\n",
    "import matplotlib.pyplot as plt \n",
    "import seaborn as sns"
   ]
  },
  {
   "cell_type": "code",
   "execution_count": 2,
   "metadata": {},
   "outputs": [],
   "source": [
    "class BasicNN(nn.Module):\n",
    "    def __init__(self):\n",
    "        super().__init__()\n",
    "        self.w00 = nn.Parameter(torch.tensor(1.7), requires_grad=False)\n",
    "        self.b00 = nn.Parameter(torch.tensor(-0.85), requires_grad=False)\n",
    "        self.w01 = nn.Parameter(torch.tensor(-40.8), requires_grad=False)\n",
    "\n",
    "        self.w10 = nn.Parameter(torch.tensor(12.6), requires_grad=False)\n",
    "        self.b10 = nn.Parameter(torch.tensor(0.0), requires_grad=False)\n",
    "        self.w11 = nn.Parameter(torch.tensor(2.7), requires_grad=False)\n",
    "\n",
    "        self.final_bias = nn.Parameter(torch.tensor(-16.), requires_grad=False)\n",
    "\n",
    "    def forward(self, input):\n",
    "        input_to_top_relu = input * self.w00 + self.b00\n",
    "        top_relu_output = F.relu(input_to_top_relu)\n",
    "        scaled_top_relu_output = top_relu_output * self.w01\n",
    "\n",
    "        input_to_bottom_relu = input * self.w10 + self.b10\n",
    "        bottom_relu_output = F.relu(input_to_bottom_relu)\n",
    "        scaled_bottom_relu_output = bottom_relu_output * self.w11\n",
    "\n",
    "        input_to_final_relu = scaled_bottom_relu_output + scaled_top_relu_output + self.final_bias\n",
    "        output = F.relu(input_to_final_relu)\n",
    "\n",
    "        return output"
   ]
  },
  {
   "cell_type": "code",
   "execution_count": 3,
   "metadata": {},
   "outputs": [],
   "source": [
    "class BasicNN_train(nn.Module):\n",
    "    def __init__(self):\n",
    "        super().__init__()\n",
    "        self.w00 = nn.Parameter(torch.tensor(1.7), requires_grad=False)\n",
    "        self.b00 = nn.Parameter(torch.tensor(-0.85), requires_grad=False)\n",
    "        self.w01 = nn.Parameter(torch.tensor(-40.8), requires_grad=False)\n",
    "\n",
    "        self.w10 = nn.Parameter(torch.tensor(12.6), requires_grad=False)\n",
    "        self.b10 = nn.Parameter(torch.tensor(0.0), requires_grad=False)\n",
    "        self.w11 = nn.Parameter(torch.tensor(2.7), requires_grad=False)\n",
    "\n",
    "        self.final_bias = nn.Parameter(torch.tensor(0.), requires_grad=True)\n",
    "\n",
    "    def forward(self, input):\n",
    "        input_to_top_relu = input * self.w00 + self.b00\n",
    "        top_relu_output = F.relu(input_to_top_relu)\n",
    "        scaled_top_relu_output = top_relu_output * self.w01\n",
    "\n",
    "        input_to_bottom_relu = input * self.w10 + self.b10\n",
    "        bottom_relu_output = F.relu(input_to_bottom_relu)\n",
    "        scaled_bottom_relu_output = bottom_relu_output * self.w11\n",
    "\n",
    "        input_to_final_relu = scaled_bottom_relu_output + scaled_top_relu_output + self.final_bias\n",
    "        output = F.relu(input_to_final_relu)\n",
    "\n",
    "        return output"
   ]
  },
  {
   "cell_type": "code",
   "execution_count": 4,
   "metadata": {},
   "outputs": [],
   "source": [
    "inputs = torch.tensor([0., 0.5, 1.])\n",
    "lables = torch.tensor([0., 1., 0.])"
   ]
  },
  {
   "cell_type": "code",
   "execution_count": 5,
   "metadata": {},
   "outputs": [],
   "source": [
    "input_doses = torch.linspace(start=0, end=1, steps=11)"
   ]
  },
  {
   "cell_type": "code",
   "execution_count": 6,
   "metadata": {},
   "outputs": [
    {
     "data": {
      "text/plain": [
       "tensor([0.0000, 0.1000, 0.2000, 0.3000, 0.4000, 0.5000, 0.6000, 0.7000, 0.8000,\n",
       "        0.9000, 1.0000])"
      ]
     },
     "execution_count": 6,
     "metadata": {},
     "output_type": "execute_result"
    }
   ],
   "source": [
    "input_doses"
   ]
  },
  {
   "cell_type": "code",
   "execution_count": 7,
   "metadata": {},
   "outputs": [],
   "source": [
    "model = BasicNN_train()"
   ]
  },
  {
   "cell_type": "code",
   "execution_count": 8,
   "metadata": {},
   "outputs": [],
   "source": [
    "inputs = torch.tensor([0., 0.5, 1.])\n",
    "lables = torch.tensor([0., 1., 0.])"
   ]
  },
  {
   "cell_type": "code",
   "execution_count": 9,
   "metadata": {},
   "outputs": [
    {
     "name": "stdout",
     "output_type": "stream",
     "text": [
      "step: 0 final bias : tensor(-3.2020)\n",
      "\n",
      "step: 1 final bias : tensor(-5.7636)\n",
      "\n",
      "step: 2 final bias : tensor(-7.8129)\n",
      "\n",
      "step: 3 final bias : tensor(-9.4523)\n",
      "\n",
      "step: 4 final bias : tensor(-10.7638)\n",
      "\n",
      "step: 5 final bias : tensor(-11.8131)\n",
      "\n",
      "step: 6 final bias : tensor(-12.6525)\n",
      "\n",
      "step: 7 final bias : tensor(-13.3240)\n",
      "\n",
      "step: 8 final bias : tensor(-13.8612)\n",
      "\n",
      "step: 9 final bias : tensor(-14.2909)\n",
      "\n",
      "step: 10 final bias : tensor(-14.6348)\n",
      "\n",
      "step: 11 final bias : tensor(-14.9098)\n",
      "\n",
      "step: 12 final bias : tensor(-15.1298)\n",
      "\n",
      "step: 13 final bias : tensor(-15.3059)\n",
      "\n",
      "step: 14 final bias : tensor(-15.4467)\n",
      "\n",
      "step: 15 final bias : tensor(-15.5594)\n",
      "\n",
      "step: 16 final bias : tensor(-15.6495)\n",
      "\n",
      "step: 17 final bias : tensor(-15.7216)\n",
      "\n",
      "step: 18 final bias : tensor(-15.7793)\n",
      "\n",
      "step: 19 final bias : tensor(-15.8254)\n",
      "\n",
      "step: 20 final bias : tensor(-15.8623)\n",
      "\n",
      "step: 21 final bias : tensor(-15.8919)\n",
      "\n",
      "step: 22 final bias : tensor(-15.9155)\n",
      "\n",
      "step: 23 final bias : tensor(-15.9344)\n",
      "\n",
      "step: 24 final bias : tensor(-15.9495)\n",
      "\n",
      "step: 25 final bias : tensor(-15.9616)\n",
      "\n",
      "step: 26 final bias : tensor(-15.9713)\n",
      "\n",
      "step: 27 final bias : tensor(-15.9790)\n",
      "\n",
      "step: 28 final bias : tensor(-15.9852)\n",
      "\n",
      "step: 29 final bias : tensor(-15.9902)\n",
      "\n",
      "step: 30 final bias : tensor(-15.9941)\n",
      "\n",
      "step: 31 final bias : tensor(-15.9973)\n",
      "\n",
      "step: 32 final bias : tensor(-15.9999)\n",
      "\n",
      "step: 33 final bias : tensor(-16.0019)\n",
      "\n",
      "Num steps : 34\n"
     ]
    }
   ],
   "source": [
    "optimizer = SGD(model.parameters(), lr=0.1)\n",
    "\n",
    "for epoch in range(100):\n",
    "     \n",
    "    total_loss = 0\n",
    "    for iteration in range(len(inputs)):\n",
    "        input_i = inputs[iteration]\n",
    "        lable_i = lables[iteration]\n",
    "\n",
    "        output_i = model(input_i)\n",
    "        loss = (output_i-lable_i)**2\n",
    "        loss.backward()\n",
    "\n",
    "        total_loss += float(loss)\n",
    "\n",
    "    if (total_loss < 0.0001):\n",
    "        print(\"Num steps : \" + str(epoch))\n",
    "        break\n",
    "\n",
    "    optimizer.step()\n",
    "    optimizer.zero_grad()\n",
    "\n",
    "    print(\"step: \" + str(epoch) + \" final bias : \" + str(model.final_bias.data) + \"\\n\")\n"
   ]
  },
  {
   "cell_type": "code",
   "execution_count": 10,
   "metadata": {},
   "outputs": [],
   "source": [
    "output_values = model(input_doses)"
   ]
  },
  {
   "cell_type": "code",
   "execution_count": 11,
   "metadata": {},
   "outputs": [
    {
     "data": {
      "image/png": "[encoded data removed]",
      "text/plain": [
       "<Figure size 640x480 with 1 Axes>"
      ]
     },
     "metadata": {},
     "output_type": "display_data"
    }
   ],
   "source": [
    "sns.set(style=\"whitegrid\")\n",
    "sns.lineplot(x=input_doses.numpy(),\n",
    "             y=output_values.detach().numpy(),\n",
    "             color='green',\n",
    "             linewidth=2.5)\n",
    "\n",
    "plt.show()\n"
   ]
  },
  {
   "cell_type": "code",
   "execution_count": null,
   "metadata": {},
   "outputs": [],
   "source": []
  }
 ],
 "metadata": {
  "kernelspec": {
   "display_name": "Python 3",
   "language": "python",
   "name": "python3"
  },
  "language_info": {
   "codemirror_mode": {
    "name": "ipython",
    "version": 3
   },
   "file_extension": ".py",
   "mimetype": "text/x-python",
   "name": "python",
   "nbconvert_exporter": "python",
   "pygments_lexer": "ipython3",
   "version": "3.11.5"
  }
 },
 "nbformat": 4,
 "nbformat_minor": 2
}
